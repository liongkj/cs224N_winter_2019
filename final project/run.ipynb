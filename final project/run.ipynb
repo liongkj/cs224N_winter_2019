{
 "cells": [
  {
   "cell_type": "code",
   "execution_count": null,
   "metadata": {},
   "outputs": [
    {
     "name": "stdout",
     "output_type": "stream",
     "text": [
      "[06.05.20 13:38:01] Args: {\n",
      "    \"batch_size\": 64,\n",
      "    \"char_emb_file\": \"./data/char_emb.json\",\n",
      "    \"dev_eval_file\": \"./data/dev_eval.json\",\n",
      "    \"dev_record_file\": \"./data/dev.npz\",\n",
      "    \"drop_prob\": 0.2,\n",
      "    \"ema_decay\": 0.999,\n",
      "    \"eval_steps\": 50000,\n",
      "    \"gpu_ids\": [],\n",
      "    \"hidden_size\": 100,\n",
      "    \"l2_wd\": 0,\n",
      "    \"load_path\": null,\n",
      "    \"lr\": 0.5,\n",
      "    \"max_ans_len\": 15,\n",
      "    \"max_checkpoints\": 5,\n",
      "    \"max_grad_norm\": 5.0,\n",
      "    \"maximize_metric\": true,\n",
      "    \"metric_name\": \"F1\",\n",
      "    \"name\": \"baseline\",\n",
      "    \"num_epochs\": 30,\n",
      "    \"num_visuals\": 10,\n",
      "    \"num_workers\": 4,\n",
      "    \"save_dir\": \"./save/train/baseline-01\",\n",
      "    \"seed\": 224,\n",
      "    \"test_eval_file\": \"./data/test_eval.json\",\n",
      "    \"test_record_file\": \"./data/test.npz\",\n",
      "    \"train_eval_file\": \"./data/train_eval.json\",\n",
      "    \"train_record_file\": \"./data/train.npz\",\n",
      "    \"use_squad_v2\": true,\n",
      "    \"word_emb_file\": \"./data/word_emb.json\"\n",
      "}\n",
      "[06.05.20 13:38:01] Using random seed 224...\n",
      "[06.05.20 13:38:01] Loading embeddings...\n",
      "[06.05.20 13:38:05] Building model...\n",
      "[06.05.20 13:38:05] Saver will maximize F1...\n",
      "[06.05.20 13:38:05] Building dataset...\n",
      "[06.05.20 13:38:14] Training...\n",
      "[06.05.20 13:38:14] Starting epoch 1...\n",
      "  1%|                 | 896/129941 [03:29<8:08:01,  4.41it/s, NLL=9.36, epoch=1]"
     ]
    }
   ],
   "source": [
    "!python train.py -n baseline"
   ]
  },
  {
   "cell_type": "code",
   "execution_count": null,
   "metadata": {},
   "outputs": [],
   "source": []
  }
 ],
 "metadata": {
  "kernelspec": {
   "display_name": "Python 3",
   "language": "python",
   "name": "python3"
  },
  "language_info": {
   "codemirror_mode": {
    "name": "ipython",
    "version": 3
   },
   "file_extension": ".py",
   "mimetype": "text/x-python",
   "name": "python",
   "nbconvert_exporter": "python",
   "pygments_lexer": "ipython3",
   "version": "3.6.10"
  }
 },
 "nbformat": 4,
 "nbformat_minor": 4
}
